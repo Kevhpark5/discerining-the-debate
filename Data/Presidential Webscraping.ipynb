{
 "cells": [
  {
   "cell_type": "code",
   "execution_count": 1,
   "metadata": {},
   "outputs": [],
   "source": [
    "from pymongo import MongoClient\n",
    "client = MongoClient('localhost', 27017)\n",
    "db = client['test_database']\n",
    "tab = db['test_table']"
   ]
  },
  {
   "cell_type": "code",
   "execution_count": 2,
   "metadata": {},
   "outputs": [],
   "source": [
    "from pymongo import MongoClient\n",
    "from bs4 import BeautifulSoup\n",
    "from collections import Counter\n",
    "\n",
    "import warnings\n",
    "import pprint\n",
    "import copy\n",
    "import pandas as pd\n",
    "import numpy as np\n",
    "import matplotlib.pyplot as plt\n",
    "%matplotlib inline\n",
    "plt.style.use('fivethirtyeight')\n",
    "import matplotlib.patches as mpatches\n",
    "import requests\n",
    "import json\n",
    "import re\n",
    "import unicodedata\n",
    "import string\n",
    "\n",
    "from nltk.tokenize import word_tokenize\n",
    "from nltk.tokenize import sent_tokenize\n",
    "from nltk.corpus import stopwords\n",
    "from nltk.stem.porter import PorterStemmer\n",
    "from nltk.stem.snowball import SnowballStemmer\n",
    "from nltk.util import ngrams\n",
    "\n",
    "from sklearn.feature_extraction.text import CountVectorizer\n",
    "from sklearn.feature_extraction.text import TfidfVectorizer\n",
    "from sklearn.model_selection import train_test_split\n",
    "from sklearn.naive_bayes import BernoulliNB\n",
    "from sklearn.naive_bayes import MultinomialNB\n",
    "from sklearn.metrics import roc_curve, auc\n",
    "from sklearn.linear_model import LogisticRegression\n",
    "from sklearn.metrics import confusion_matrix, precision_score, recall_score\n",
    "\n",
    "from os import path\n",
    "from wordcloud import WordCloud, STOPWORDS, ImageColorGenerator"
   ]
  },
  {
   "cell_type": "code",
   "execution_count": 3,
   "metadata": {},
   "outputs": [],
   "source": [
    "debate1_url = 'https://www.politico.com/story/2016/09/full-transcript-first-2016-presidential-debate-228761'\n",
    "debate2_url = 'https://www.politico.com/story/2016/10/2016-presidential-debate-transcript-229519'\n",
    "debate3_url = 'https://www.politico.com/story/2016/10/full-transcript-third-2016-presidential-debate-230063'\n",
    "\n",
    "r = requests.get(debate1_url)\n",
    "r2 = requests.get(debate2_url)\n",
    "r3 = requests.get(debate3_url)\n"
   ]
  },
  {
   "cell_type": "code",
   "execution_count": 4,
   "metadata": {},
   "outputs": [],
   "source": [
    "db = client.metroid\n",
    "pages = db.pages\n",
    "pages.insert_one({'html': r.content})\n",
    "soup = BeautifulSoup(r.content, \"html\")\n",
    "\n",
    "pages2 = db.pages2\n",
    "pages2.insert_one({'html': r2.content})\n",
    "soup2 = BeautifulSoup(r2.content, \"html\")\n",
    "\n",
    "pages3 = db.pages3\n",
    "pages3.insert_one({'html': r3.content})\n",
    "soup3 = BeautifulSoup(r3.content, \"html\")"
   ]
  },
  {
   "cell_type": "code",
   "execution_count": 5,
   "metadata": {},
   "outputs": [],
   "source": [
    "div = soup.find(\"div\", {\"class\": \"global-wrapper\"})\n",
    "main = div.find(\"main\", {\"class\": \"super-duper\"})\n",
    "article = main.find(\"article\", {\"class\": \"story-main-content\"})\n",
    "text = article.find(\"div\", {\"class\": \"story-text\"})\n",
    "\n",
    "div2 = soup2.find(\"div\", {\"class\": \"global-wrapper\"})\n",
    "main2 = div2.find(\"main\", {\"class\": \"super-duper\"})\n",
    "article2 = main2.find(\"article\", {\"class\": \"story-main-content\"})\n",
    "text2 = article2.find(\"div\", {\"class\": \"story-text\"})\n",
    "\n",
    "div3 = soup3.find(\"div\", {\"class\": \"global-wrapper\"})\n",
    "main3 = div3.find(\"main\", {\"class\": \"super-duper\"})\n",
    "article3 = main3.find(\"article\", {\"class\": \"story-main-content\"})\n",
    "text3 = article3.find(\"div\", {\"class\": \"story-text\"})"
   ]
  },
  {
   "cell_type": "code",
   "execution_count": 72,
   "metadata": {},
   "outputs": [],
   "source": [
    "rows = text.find_all('p')[2:-1]\n",
    "all_rows = []\n",
    "empty_row = {\n",
    "    \"Speaker\":None, \"Line\":None\n",
    "}\n",
    "for i, row in enumerate(rows):\n",
    "    new_row = copy.copy(empty_row)\n",
    "    if rows[i].find('b') != None:\n",
    "        a = rows[i].find('b').text\n",
    "        new_row['Speaker'] = a\n",
    "    elif rows[i].find('b') == None:\n",
    "        new_row['Speaker'] = a\n",
    "    new_row['Line'] = rows[i].text\n",
    "    all_rows.append(new_row)\n",
    "    \n",
    "for i in all_rows:\n",
    "    if i['Line'] == '(APPLAUSE)':\n",
    "        i['Speaker'] = 'AUDIENCE'\n",
    "        i['Line'] = 'Applause'\n",
    "    if i['Line'][:5] == 'HOLT:':\n",
    "        i['Line'] = i['Line'][5:]\n",
    "    if i['Line'][:8] == 'CLINTON:':\n",
    "        i['Line'] = i['Line'][8:]\n",
    "    if i['Line'][:6] == 'TRUMP:':\n",
    "        i['Line'] = i['Line'][6:]\n",
    "        \n",
    "for row in all_rows:\n",
    "    pages.insert_one(row)\n",
    "    \n",
    "rows = pages.find()\n",
    "debate1 = pd.DataFrame(list(rows))\n",
    "debate1 = debate1.drop(['_id', 'html'], axis = 1)\n",
    "debate1 = debate1[2:]\n",
    "\n",
    "debate1 = debate1[debate1['Line'] != 'Advertisement']\n",
    "debate1.index = range(len(debate1))\n",
    "debate1 = debate1[:444]"
   ]
  },
  {
   "cell_type": "code",
   "execution_count": 7,
   "metadata": {},
   "outputs": [],
   "source": [
    "rows2 = text2.find_all('p')[2:-1]\n",
    "all_rows2 = []\n",
    "empty_row2 = {\n",
    "    \"Speaker\":None, \"Line\":None\n",
    "}\n",
    "for i, row in enumerate(rows2):\n",
    "    new_row2 = copy.copy(empty_row2)\n",
    "    if rows2[i].find('b') != None:\n",
    "        a = rows2[i].find('b').text\n",
    "        new_row2['Speaker'] = a\n",
    "    elif rows2[i].find('b') == None:\n",
    "        new_row2['Speaker'] = a\n",
    "    new_row2['Line'] = rows2[i].text\n",
    "    all_rows2.append(new_row2)\n",
    "    \n",
    "for i in all_rows2:\n",
    "    if i['Line'] == '[Applause]':\n",
    "        i['Speaker'] = 'AUDIENCE'\n",
    "        i['Line'] = 'Applause'\n",
    "    if i['Line'][:8] == 'Raddatz:':\n",
    "        i['Line'] = i['Line'][8:]\n",
    "    if i['Line'][:7] == 'Cooper:':\n",
    "        i['Line'] = i['Line'][7:]\n",
    "    if i['Line'][:6] == 'Brock:':\n",
    "        i['Line'] = i['Line'][6:]\n",
    "    if i['Line'][:8] == 'Clinton:':\n",
    "        i['Line'] = i['Line'][8:]\n",
    "    if i['Line'][:6] == 'Trump:':\n",
    "        i['Line'] = i['Line'][6:]\n",
    "        \n",
    "for row in all_rows2:\n",
    "    pages2.insert_one(row)\n",
    "    \n",
    "rows2 = pages2.find()\n",
    "debate2 = pd.DataFrame(list(rows2))\n",
    "debate2 = debate2.drop(['_id', 'html'], axis = 1)\n",
    "debate2 = debate2[4:]\n",
    "debate2 = debate2[debate2['Line'] != 'Advertisement']\n",
    "debate2.index = range(len(debate2))\n",
    "debate2 = debate2[:206]"
   ]
  },
  {
   "cell_type": "code",
   "execution_count": 8,
   "metadata": {},
   "outputs": [],
   "source": [
    "rows3 = text3.find_all('p')[2:-1]\n",
    "all_rows3 = []\n",
    "empty_row3 = {\n",
    "    \"Speaker\":None, \"Line\":None\n",
    "}\n",
    "for i, row in enumerate(rows3):\n",
    "    new_row3 = copy.copy(empty_row3)\n",
    "    if rows3[i].find('b') != None:\n",
    "        a = rows3[i].find('b').text\n",
    "        new_row3['Speaker'] = a\n",
    "    elif rows3[i].find('b') == None:\n",
    "        new_row3['Speaker'] = a\n",
    "    new_row3['Line'] = rows3[i].text\n",
    "    all_rows3.append(new_row3)\n",
    "    \n",
    "for i in all_rows3:\n",
    "    if i['Line'] == '(Applause)':\n",
    "        i['Speaker'] = 'AUDIENCE'\n",
    "        i['Line'] = 'APPLAUSE'\n",
    "    if i['Line'][:14] == 'Chris Wallace:':\n",
    "        i['Line'] = i['Line'][14:]\n",
    "    if i['Line'][:8] == 'Wallace:':\n",
    "        i['Line'] = i['Line'][8:]\n",
    "    if i['Line'][:7] == 'Cooper:':\n",
    "        i['Line'] = i['Line'][7:]\n",
    "    if i['Line'][:6] == 'Brock:':\n",
    "        i['Line'] = i['Line'][6:]\n",
    "    if i['Line'][:8] == 'Clinton:':\n",
    "        i['Line'] = i['Line'][8:]\n",
    "    if i['Line'][:6] == 'Trump:':\n",
    "        i['Line'] = i['Line'][6:]\n",
    "        \n",
    "for row in all_rows3:\n",
    "    pages3.insert_one(row)\n",
    "    \n",
    "rows3 = pages3.find()\n",
    "debate3 = pd.DataFrame(list(rows3))\n",
    "debate3 = debate3.drop(['_id', 'html'], axis = 1)\n",
    "debate3 = debate3[1:]\n",
    "debate3 = debate3[debate3['Line'] != 'Advertisement']\n",
    "debate3.index = range(len(debate3))\n",
    "debate3 = debate3[:257]\n",
    "debate3['Speaker'][0] = 'Wallace'"
   ]
  },
  {
   "cell_type": "code",
   "execution_count": 9,
   "metadata": {},
   "outputs": [],
   "source": [
    "all_debates = debate1.append(debate2).append(debate3)\n",
    "debate = all_debates.copy()"
   ]
  },
  {
   "cell_type": "code",
   "execution_count": 10,
   "metadata": {},
   "outputs": [],
   "source": [
    "name_lower = []\n",
    "for i in debate['Speaker']:\n",
    "    name_lower.append(i.lower())\n",
    "debate['Speaker'] = name_lower"
   ]
  },
  {
   "cell_type": "code",
   "execution_count": 11,
   "metadata": {},
   "outputs": [],
   "source": [
    "debate.index = range(len(debate))"
   ]
  },
  {
   "cell_type": "code",
   "execution_count": 12,
   "metadata": {},
   "outputs": [
    {
     "data": {
      "text/html": [
       "<div>\n",
       "<style scoped>\n",
       "    .dataframe tbody tr th:only-of-type {\n",
       "        vertical-align: middle;\n",
       "    }\n",
       "\n",
       "    .dataframe tbody tr th {\n",
       "        vertical-align: top;\n",
       "    }\n",
       "\n",
       "    .dataframe thead th {\n",
       "        text-align: right;\n",
       "    }\n",
       "</style>\n",
       "<table border=\"1\" class=\"dataframe\">\n",
       "  <thead>\n",
       "    <tr style=\"text-align: right;\">\n",
       "      <th></th>\n",
       "      <th>Speaker</th>\n",
       "      <th>Line</th>\n",
       "    </tr>\n",
       "  </thead>\n",
       "  <tbody>\n",
       "    <tr>\n",
       "      <th>5</th>\n",
       "      <td>audience</td>\n",
       "      <td>APPLAUSE</td>\n",
       "    </tr>\n",
       "    <tr>\n",
       "      <th>7</th>\n",
       "      <td>audience</td>\n",
       "      <td>APPLAUSE</td>\n",
       "    </tr>\n",
       "    <tr>\n",
       "      <th>9</th>\n",
       "      <td>audience</td>\n",
       "      <td>APPLAUSE</td>\n",
       "    </tr>\n",
       "    <tr>\n",
       "      <th>196</th>\n",
       "      <td>audience</td>\n",
       "      <td>APPLAUSE</td>\n",
       "    </tr>\n",
       "    <tr>\n",
       "      <th>477</th>\n",
       "      <td>audience</td>\n",
       "      <td>APPLAUSE</td>\n",
       "    </tr>\n",
       "    <tr>\n",
       "      <th>828</th>\n",
       "      <td>audience</td>\n",
       "      <td>APPLAUSE</td>\n",
       "    </tr>\n",
       "    <tr>\n",
       "      <th>834</th>\n",
       "      <td>audience</td>\n",
       "      <td>APPLAUSE</td>\n",
       "    </tr>\n",
       "  </tbody>\n",
       "</table>\n",
       "</div>"
      ],
      "text/plain": [
       "      Speaker      Line\n",
       "5    audience  APPLAUSE\n",
       "7    audience  APPLAUSE\n",
       "9    audience  APPLAUSE\n",
       "196  audience  APPLAUSE\n",
       "477  audience  APPLAUSE\n",
       "828  audience  APPLAUSE\n",
       "834  audience  APPLAUSE"
      ]
     },
     "execution_count": 12,
     "metadata": {},
     "output_type": "execute_result"
    }
   ],
   "source": [
    "debate[debate['Speaker'] == 'audience']"
   ]
  },
  {
   "cell_type": "code",
   "execution_count": 13,
   "metadata": {},
   "outputs": [],
   "source": [
    "debate_cand = debate[(debate['Speaker'] == 'trump') | (debate['Speaker'] == 'clinton')]"
   ]
  },
  {
   "cell_type": "code",
   "execution_count": 14,
   "metadata": {
    "scrolled": true
   },
   "outputs": [
    {
     "name": "stderr",
     "output_type": "stream",
     "text": [
      "/Users/kevinpark/Library/Python/3.7/lib/python/site-packages/ipykernel_launcher.py:7: SettingWithCopyWarning: \n",
      "A value is trying to be set on a copy of a slice from a DataFrame.\n",
      "Try using .loc[row_indexer,col_indexer] = value instead\n",
      "\n",
      "See the caveats in the documentation: http://pandas.pydata.org/pandas-docs/stable/user_guide/indexing.html#returning-a-view-versus-a-copy\n",
      "  import sys\n"
     ]
    }
   ],
   "source": [
    "bools = []\n",
    "for i in debate_cand['Speaker']:\n",
    "    if i == 'clinton':\n",
    "        bools.append(1)\n",
    "    else:\n",
    "        bools.append(0)\n",
    "debate_cand['Labels'] = bools"
   ]
  },
  {
   "cell_type": "code",
   "execution_count": 15,
   "metadata": {},
   "outputs": [],
   "source": [
    "vectorizer = TfidfVectorizer(stop_words='english', max_features = 600)\n",
    "ps = PorterStemmer()\n",
    "def preprocess(arr):\n",
    "    '''\n",
    "    removes puncuation from reviews, puts in lower case\n",
    "    '''\n",
    "    REPLACE_NO_SPACE = re.compile(\"[.;:!\\'?,\\\"()\\[\\]]\")\n",
    "    REPLACE_WITH_SPACE = re.compile(\"(<br\\s*/><br\\s*/>)|(\\-)|(\\/)\")\n",
    "    reviews = [REPLACE_NO_SPACE.sub(\"\", line.lower()) for line in arr]\n",
    "    reviews = [REPLACE_WITH_SPACE.sub(\" \", line) for line in arr]\n",
    "    return reviews\n",
    "\n",
    "def stemmer(arr):\n",
    "    '''\n",
    "    takes a corpus in an array and returns a simillar arr of stemmed words\n",
    "    '''\n",
    "    output = list()\n",
    "    for text in arr:\n",
    "        current = \"\"\n",
    "        for word in text.split():\n",
    "            current += ps.stem(word) + \" \"\n",
    "        output.append(current)\n",
    "    return output\n",
    "\n",
    "def pipeline(arr):\n",
    "    step1 = preprocess(arr)\n",
    "    step2 = stemmer(step1)\n",
    "    step3 = vectorizer.fit_transform(np.array(step2))\n",
    "    return step3"
   ]
  },
  {
   "cell_type": "code",
   "execution_count": 16,
   "metadata": {},
   "outputs": [],
   "source": [
    "vectors = pipeline(debate_cand['Line'])\n",
    "vector_pd = pd.DataFrame(vectors.toarray(), columns = vectorizer.get_feature_names())\n",
    "X_train, X_test, y_train, y_test = train_test_split(vector_pd, debate_cand['Labels'])"
   ]
  },
  {
   "cell_type": "code",
   "execution_count": 17,
   "metadata": {},
   "outputs": [
    {
     "data": {
      "text/plain": [
       "MultinomialNB(alpha=1.0, class_prior=None, fit_prior=True)"
      ]
     },
     "execution_count": 17,
     "metadata": {},
     "output_type": "execute_result"
    }
   ],
   "source": [
    "nb = MultinomialNB()\n",
    "nb.fit(vector_pd, debate_cand['Labels'])"
   ]
  },
  {
   "cell_type": "code",
   "execution_count": 18,
   "metadata": {},
   "outputs": [],
   "source": [
    "y_pred_class = nb.predict(X_test)\n",
    "y_prob = nb.predict_proba(X_test)"
   ]
  },
  {
   "cell_type": "code",
   "execution_count": 19,
   "metadata": {},
   "outputs": [
    {
     "data": {
      "text/plain": [
       "0.8709677419354839"
      ]
     },
     "execution_count": 19,
     "metadata": {},
     "output_type": "execute_result"
    }
   ],
   "source": [
    "from sklearn import metrics\n",
    "metrics.accuracy_score(y_test, y_pred_class)"
   ]
  },
  {
   "cell_type": "code",
   "execution_count": 20,
   "metadata": {},
   "outputs": [],
   "source": [
    "lr = LogisticRegression()\n",
    "lr.fit(vectors, debate_cand['Labels'])\n",
    "lr_pred_class = lr.predict(X_test)\n",
    "lr_prob = lr.predict_proba(X_test)"
   ]
  },
  {
   "cell_type": "code",
   "execution_count": 21,
   "metadata": {},
   "outputs": [
    {
     "data": {
      "text/plain": [
       "0.8838709677419355"
      ]
     },
     "execution_count": 21,
     "metadata": {},
     "output_type": "execute_result"
    }
   ],
   "source": [
    "metrics.accuracy_score(y_test, lr_pred_class)"
   ]
  },
  {
   "cell_type": "code",
   "execution_count": 22,
   "metadata": {},
   "outputs": [],
   "source": [
    "def calculate_threshold_values(prob, y):\n",
    "    '''\n",
    "    Build dataframe of the various confusion-matrix ratios by threshold\n",
    "    from a list of predicted probabilities and actual y values\n",
    "    '''\n",
    "    df = pd.DataFrame({'prob': prob, 'y': y})\n",
    "    df.sort_values('prob', inplace=True)\n",
    "    \n",
    "    actual_p = df.y.sum()\n",
    "    actual_n = df.shape[0] - df.y.sum()\n",
    "\n",
    "    df['tn'] = (df.y == 0).cumsum()\n",
    "    df['fn'] = df.y.cumsum()\n",
    "    df['fp'] = actual_n - df.tn\n",
    "    df['tp'] = actual_p - df.fn\n",
    "\n",
    "    df['fpr'] = df.fp/(df.fp + df.tn)\n",
    "    df['tpr'] = df.tp/(df.tp + df.fn)\n",
    "    df['precision'] = df.tp/(df.tp + df.fp)\n",
    "    df = df.reset_index(drop=True)\n",
    "    return df\n",
    "    \n",
    "def plot_roc(ax, df):\n",
    "    ax.plot([1]+list(df.fpr), [1]+list(df.tpr), label=\"ROC\")\n",
    "    ax.plot([0,1],[0,1], 'k', label=\"random\")\n",
    "    ax.set_xlabel('fpr')\n",
    "    ax.set_ylabel('tpr')\n",
    "    ax.set_title('ROC Curve')\n",
    "    ax.legend()\n",
    "    \n",
    "def plot_precision_recall(ax, df):\n",
    "    ax.plot(df.tpr,df.precision, label='precision/recall')\n",
    "    #ax.plot([0,1],[0,1], 'k')\n",
    "    ax.set_xlabel('recall')\n",
    "    ax.set_ylabel('precision')\n",
    "    ax.set_title('Precision/Recall Curve')\n",
    "    ax.plot([0,1],[df.precision[0],df.precision[0]], 'k', label='random')\n",
    "    ax.set_xlim(xmin=0,xmax=1)\n",
    "    ax.set_ylim(ymin=0,ymax=1)"
   ]
  },
  {
   "cell_type": "code",
   "execution_count": 23,
   "metadata": {},
   "outputs": [
    {
     "data": {
      "text/html": [
       "<div>\n",
       "<style scoped>\n",
       "    .dataframe tbody tr th:only-of-type {\n",
       "        vertical-align: middle;\n",
       "    }\n",
       "\n",
       "    .dataframe tbody tr th {\n",
       "        vertical-align: top;\n",
       "    }\n",
       "\n",
       "    .dataframe thead th {\n",
       "        text-align: right;\n",
       "    }\n",
       "</style>\n",
       "<table border=\"1\" class=\"dataframe\">\n",
       "  <thead>\n",
       "    <tr style=\"text-align: right;\">\n",
       "      <th></th>\n",
       "      <th>Speaker</th>\n",
       "      <th>Line</th>\n",
       "    </tr>\n",
       "  </thead>\n",
       "  <tbody>\n",
       "    <tr>\n",
       "      <th>0</th>\n",
       "      <td>holt</td>\n",
       "      <td>Good evening from Hofstra University in Hemps...</td>\n",
       "    </tr>\n",
       "    <tr>\n",
       "      <th>1</th>\n",
       "      <td>holt</td>\n",
       "      <td>The participants tonight are Donald Trump and ...</td>\n",
       "    </tr>\n",
       "    <tr>\n",
       "      <th>2</th>\n",
       "      <td>holt</td>\n",
       "      <td>The 90-minute debate is divided into six segme...</td>\n",
       "    </tr>\n",
       "    <tr>\n",
       "      <th>3</th>\n",
       "      <td>holt</td>\n",
       "      <td>The questions are mine and have not been share...</td>\n",
       "    </tr>\n",
       "    <tr>\n",
       "      <th>4</th>\n",
       "      <td>holt</td>\n",
       "      <td>I will invite you to applaud, however, at this...</td>\n",
       "    </tr>\n",
       "    <tr>\n",
       "      <th>...</th>\n",
       "      <td>...</td>\n",
       "      <td>...</td>\n",
       "    </tr>\n",
       "    <tr>\n",
       "      <th>902</th>\n",
       "      <td>wallace</td>\n",
       "      <td>This is a final time, probably to both of you...</td>\n",
       "    </tr>\n",
       "    <tr>\n",
       "      <th>903</th>\n",
       "      <td>clinton</td>\n",
       "      <td>Well I would like to say to everyone watching...</td>\n",
       "    </tr>\n",
       "    <tr>\n",
       "      <th>904</th>\n",
       "      <td>wallace</td>\n",
       "      <td>Secretary Clinton, thank you. Mr. Trump?</td>\n",
       "    </tr>\n",
       "    <tr>\n",
       "      <th>905</th>\n",
       "      <td>trump</td>\n",
       "      <td>She's raising the money from the people she w...</td>\n",
       "    </tr>\n",
       "    <tr>\n",
       "      <th>906</th>\n",
       "      <td>wallace</td>\n",
       "      <td>Thank you both. Secretary Clinton -- [ applau...</td>\n",
       "    </tr>\n",
       "  </tbody>\n",
       "</table>\n",
       "<p>907 rows × 2 columns</p>\n",
       "</div>"
      ],
      "text/plain": [
       "     Speaker                                               Line\n",
       "0       holt   Good evening from Hofstra University in Hemps...\n",
       "1       holt  The participants tonight are Donald Trump and ...\n",
       "2       holt  The 90-minute debate is divided into six segme...\n",
       "3       holt  The questions are mine and have not been share...\n",
       "4       holt  I will invite you to applaud, however, at this...\n",
       "..       ...                                                ...\n",
       "902  wallace   This is a final time, probably to both of you...\n",
       "903  clinton   Well I would like to say to everyone watching...\n",
       "904  wallace           Secretary Clinton, thank you. Mr. Trump?\n",
       "905    trump   She's raising the money from the people she w...\n",
       "906  wallace   Thank you both. Secretary Clinton -- [ applau...\n",
       "\n",
       "[907 rows x 2 columns]"
      ]
     },
     "execution_count": 23,
     "metadata": {},
     "output_type": "execute_result"
    }
   ],
   "source": [
    "debate"
   ]
  },
  {
   "cell_type": "code",
   "execution_count": null,
   "metadata": {},
   "outputs": [],
   "source": []
  },
  {
   "cell_type": "code",
   "execution_count": 24,
   "metadata": {},
   "outputs": [
    {
     "data": {
      "image/png": "[encoded data removed]",
      "text/plain": [
       "<Figure size 1152x720 with 1 Axes>"
      ]
     },
     "metadata": {},
     "output_type": "display_data"
    }
   ],
   "source": [
    "fpr = dict()\n",
    "tpr = dict()\n",
    "\n",
    "roc_auc = dict()\n",
    "\n",
    "for i in range(2):\n",
    "    fpr[i], tpr[i], _ = roc_curve(y_test, y_prob[:,1])\n",
    "    \n",
    "fpr[\"micro\"], tpr[\"micro\"], _ = roc_curve(y_test.ravel(), y_pred_class.ravel())\n",
    "roc_auc[\"micro\"] = auc(fpr[\"micro\"], tpr[\"micro\"])\n",
    "\n",
    "lpr = dict()\n",
    "ipr = dict()\n",
    "loc_auc = dict()\n",
    "for i in range(2):\n",
    "    lpr[i], ipr[i], _ = roc_curve(y_test, lr_prob[:,1])\n",
    "    \n",
    "lpr[\"micro\"], ipr[\"micro\"], _ = roc_curve(y_test.ravel(), y_pred_class.ravel())\n",
    "loc_auc[\"micro\"] = auc(lpr[\"micro\"], ipr[\"micro\"])\n",
    "\n",
    "plt.figure(figsize = (16,10))\n",
    "lw = 5\n",
    "plt.plot(fpr[1], tpr[1], color='darkorange',\n",
    "         lw=lw, label='MultinomialNB')\n",
    "plt.plot([0, 1], [0, 1], color='navy', lw=lw, linestyle='--')\n",
    "plt.xlim([0.0, 1.0])\n",
    "plt.xticks(fontsize = 24)\n",
    "plt.yticks(fontsize = 24)\n",
    "plt.ylim([0.0, 1.05])\n",
    "plt.xlabel('False Positive Rate', fontsize = 36)\n",
    "plt.ylabel('True Positive Rate', fontsize = 36)\n",
    "plt.title('ROC Curves', fontsize = 48)\n",
    "plt.plot(lpr[1], ipr[1], color='green',\n",
    "         lw=lw, label='Logistic Regression')\n",
    "plt.legend(loc=\"lower right\", fontsize= 36)\n",
    "plt.show()"
   ]
  },
  {
   "cell_type": "code",
   "execution_count": 25,
   "metadata": {},
   "outputs": [
    {
     "data": {
      "text/plain": [
       "<matplotlib.legend.Legend at 0x12c00ac10>"
      ]
     },
     "execution_count": 25,
     "metadata": {},
     "output_type": "execute_result"
    },
    {
     "data": {
      "image/png": "[encoded data removed]",
      "text/plain": [
       "<Figure size 864x720 with 1 Axes>"
      ]
     },
     "metadata": {},
     "output_type": "display_data"
    }
   ],
   "source": [
    "df = calculate_threshold_values(lr_prob[:,1], y_test)\n",
    "df1 = calculate_threshold_values(y_prob[:,1], y_test)\n",
    "fig, ax = plt.subplots(figsize = (12, 10))\n",
    "ax.plot(df.tpr,df.precision, linewidth = 5, label = 'Log Regression')\n",
    "    #ax.plot([0,1],[0,1], 'k')\n",
    "ax.set_xlabel('recall', fontsize = 36)\n",
    "ax.set_ylabel('precision', fontsize = 36)\n",
    "#ax.plot([0,1],[df.precision[0],df.precision[0]], 'k', label = 'random', linewidth = 3)\n",
    "ax.set_xlim(xmin=0,xmax=1)\n",
    "ax.set_ylim(ymin=0,ymax=1)\n",
    "plt.xticks(fontsize = 24)\n",
    "plt.yticks(fontsize = 24)\n",
    "ax.set_title('Precision Recall Curve', fontsize=48)\n",
    "\n",
    "ax.plot(df1.tpr,df1.precision, linewidth = 5, label = 'Multi NB')\n",
    "ax.set_xlim(xmin=0,xmax=1.1)\n",
    "ax.set_ylim(ymin=0,ymax=1.1)\n",
    "ax.legend(fontsize = 36)"
   ]
  },
  {
   "cell_type": "code",
   "execution_count": null,
   "metadata": {},
   "outputs": [],
   "source": []
  },
  {
   "cell_type": "code",
   "execution_count": 45,
   "metadata": {},
   "outputs": [
    {
     "name": "stdout",
     "output_type": "stream",
     "text": [
      "5 APPLAUSE\n",
      "7 APPLAUSE\n",
      "9 APPLAUSE\n",
      "196 APPLAUSE\n",
      "223  And maybe because you haven't paid any federal income tax for a lot of years. (APPLAUSE)\n",
      "298 (APPLAUSE) \n",
      "419 (CHEERS AND APPLAUSE)\n",
      "421 (CHEERS AND APPLAUSE)\n",
      "445  And I'm Anderson Cooper from CNN, we want to welcome you to Washington University in St. Louis for the second presidential debate between Hillary Clinton and Donald Trump sponsored by the Commission on presidential debates. Tonight's debate is a town hall format which gives voters the chance to directly ask the candidates questions. Martha and I will ask follow-up questions but the night really belongs to the people in this room and to people across the country who committed questions online. The people you see on this stage were chosen by the Gallup organization, are all from the St. Louis area and told Gallup they have not committed to a candidate. Each of them came here with questions they wanted to ask and we saw the questions for the first time this morning. Anderson and I and our team from ABC and CNN are the only ones who have seen them. Both candidates will have two minutes to answer each audience and online question we hope to get to as many questions as we can. We asked the audience not to slow things down with any applause, except for now. Ladies and gentlemen, the Republican nominee for president, Donald J. Trump and the democratic nominee for president, Hillary Clinton.\n",
      "469  Please hold the applause. Secretary Clinton, you have two minutes. \n",
      "471 [ Applause ] \n",
      "477 APPLAUSE\n",
      "828 APPLAUSE\n",
      "834 APPLAUSE\n",
      "906  Thank you both. Secretary Clinton -- [ applause ] Hold on just a moment, folks. I want to thank you both for participating in all three of these debates. That brings us to the end of the three debates sponsored by the Commission of Presidential Debates. We want to thank the university of Nevada Las Vegas and its students for having us. Now the decision is up to you. While millions have already voted, election day, November 8, is just 20 days away. One thing everyone here can agree on is we hope you will go vote. It is one of the honors and obligations of living in this great country. Thank you and good night. [ Applause ]\n"
     ]
    }
   ],
   "source": [
    "for i, j in enumerate(debate['Line']):\n",
    "    if 'applause' in j.lower():\n",
    "        print(i, j)"
   ]
  },
  {
   "cell_type": "code",
   "execution_count": 47,
   "metadata": {},
   "outputs": [],
   "source": [
    "debate_copy = debate.copy()"
   ]
  },
  {
   "cell_type": "code",
   "execution_count": 53,
   "metadata": {},
   "outputs": [],
   "source": [
    "debate_copy['Line'] = stemmer(preprocess(debate_copy['Line']))"
   ]
  },
  {
   "cell_type": "code",
   "execution_count": 62,
   "metadata": {},
   "outputs": [
    {
     "data": {
      "text/html": [
       "<div>\n",
       "<style scoped>\n",
       "    .dataframe tbody tr th:only-of-type {\n",
       "        vertical-align: middle;\n",
       "    }\n",
       "\n",
       "    .dataframe tbody tr th {\n",
       "        vertical-align: top;\n",
       "    }\n",
       "\n",
       "    .dataframe thead th {\n",
       "        text-align: right;\n",
       "    }\n",
       "</style>\n",
       "<table border=\"1\" class=\"dataframe\">\n",
       "  <thead>\n",
       "    <tr style=\"text-align: right;\">\n",
       "      <th></th>\n",
       "      <th>Speaker</th>\n",
       "      <th>Line</th>\n",
       "      <th>Labels</th>\n",
       "    </tr>\n",
       "  </thead>\n",
       "  <tbody>\n",
       "    <tr>\n",
       "      <th>6</th>\n",
       "      <td>clinton</td>\n",
       "      <td>How are you, Donald?</td>\n",
       "      <td>1</td>\n",
       "    </tr>\n",
       "    <tr>\n",
       "      <th>14</th>\n",
       "      <td>clinton</td>\n",
       "      <td>Well, thank you, Lester, and thanks to Hofstr...</td>\n",
       "      <td>1</td>\n",
       "    </tr>\n",
       "    <tr>\n",
       "      <th>15</th>\n",
       "      <td>clinton</td>\n",
       "      <td>The central question in this election is reall...</td>\n",
       "      <td>1</td>\n",
       "    </tr>\n",
       "    <tr>\n",
       "      <th>16</th>\n",
       "      <td>clinton</td>\n",
       "      <td>I want us to invest in you. I want us to inves...</td>\n",
       "      <td>1</td>\n",
       "    </tr>\n",
       "    <tr>\n",
       "      <th>17</th>\n",
       "      <td>clinton</td>\n",
       "      <td>I also want to see more companies do profit-s...</td>\n",
       "      <td>1</td>\n",
       "    </tr>\n",
       "    <tr>\n",
       "      <th>...</th>\n",
       "      <td>...</td>\n",
       "      <td>...</td>\n",
       "      <td>...</td>\n",
       "    </tr>\n",
       "    <tr>\n",
       "      <th>899</th>\n",
       "      <td>clinton</td>\n",
       "      <td>Replenish the trust fund by making sure that ...</td>\n",
       "      <td>1</td>\n",
       "    </tr>\n",
       "    <tr>\n",
       "      <th>900</th>\n",
       "      <td>trump</td>\n",
       "      <td>Your husband disagrees with you.</td>\n",
       "      <td>0</td>\n",
       "    </tr>\n",
       "    <tr>\n",
       "      <th>901</th>\n",
       "      <td>clinton</td>\n",
       "      <td>We’ve got to go after the long-term health ca...</td>\n",
       "      <td>1</td>\n",
       "    </tr>\n",
       "    <tr>\n",
       "      <th>903</th>\n",
       "      <td>clinton</td>\n",
       "      <td>Well I would like to say to everyone watching...</td>\n",
       "      <td>1</td>\n",
       "    </tr>\n",
       "    <tr>\n",
       "      <th>905</th>\n",
       "      <td>trump</td>\n",
       "      <td>She's raising the money from the people she w...</td>\n",
       "      <td>0</td>\n",
       "    </tr>\n",
       "  </tbody>\n",
       "</table>\n",
       "<p>618 rows × 3 columns</p>\n",
       "</div>"
      ],
      "text/plain": [
       "     Speaker                                               Line  Labels\n",
       "6    clinton                              How are you, Donald?        1\n",
       "14   clinton   Well, thank you, Lester, and thanks to Hofstr...       1\n",
       "15   clinton  The central question in this election is reall...       1\n",
       "16   clinton  I want us to invest in you. I want us to inves...       1\n",
       "17   clinton   I also want to see more companies do profit-s...       1\n",
       "..       ...                                                ...     ...\n",
       "899  clinton   Replenish the trust fund by making sure that ...       1\n",
       "900    trump                   Your husband disagrees with you.       0\n",
       "901  clinton   We’ve got to go after the long-term health ca...       1\n",
       "903  clinton   Well I would like to say to everyone watching...       1\n",
       "905    trump   She's raising the money from the people she w...       0\n",
       "\n",
       "[618 rows x 3 columns]"
      ]
     },
     "execution_count": 62,
     "metadata": {},
     "output_type": "execute_result"
    }
   ],
   "source": [
    "debate_cand"
   ]
  },
  {
   "cell_type": "code",
   "execution_count": 73,
   "metadata": {},
   "outputs": [
    {
     "data": {
      "text/html": [
       "<div>\n",
       "<style scoped>\n",
       "    .dataframe tbody tr th:only-of-type {\n",
       "        vertical-align: middle;\n",
       "    }\n",
       "\n",
       "    .dataframe tbody tr th {\n",
       "        vertical-align: top;\n",
       "    }\n",
       "\n",
       "    .dataframe thead th {\n",
       "        text-align: right;\n",
       "    }\n",
       "</style>\n",
       "<table border=\"1\" class=\"dataframe\">\n",
       "  <thead>\n",
       "    <tr style=\"text-align: right;\">\n",
       "      <th></th>\n",
       "      <th>Speaker</th>\n",
       "      <th>Line</th>\n",
       "    </tr>\n",
       "  </thead>\n",
       "  <tbody>\n",
       "    <tr>\n",
       "      <th>0</th>\n",
       "      <td>HOLT</td>\n",
       "      <td>Good evening from Hofstra University in Hemps...</td>\n",
       "    </tr>\n",
       "    <tr>\n",
       "      <th>1</th>\n",
       "      <td>HOLT</td>\n",
       "      <td>The participants tonight are Donald Trump and ...</td>\n",
       "    </tr>\n",
       "    <tr>\n",
       "      <th>2</th>\n",
       "      <td>HOLT</td>\n",
       "      <td>The 90-minute debate is divided into six segme...</td>\n",
       "    </tr>\n",
       "    <tr>\n",
       "      <th>3</th>\n",
       "      <td>HOLT</td>\n",
       "      <td>The questions are mine and have not been share...</td>\n",
       "    </tr>\n",
       "    <tr>\n",
       "      <th>4</th>\n",
       "      <td>HOLT</td>\n",
       "      <td>I will invite you to applaud, however, at this...</td>\n",
       "    </tr>\n",
       "    <tr>\n",
       "      <th>...</th>\n",
       "      <td>...</td>\n",
       "      <td>...</td>\n",
       "    </tr>\n",
       "    <tr>\n",
       "      <th>439</th>\n",
       "      <td>HOLT</td>\n",
       "      <td>Mr. Trump, very quickly, same question: Will ...</td>\n",
       "    </tr>\n",
       "    <tr>\n",
       "      <th>440</th>\n",
       "      <td>TRUMP</td>\n",
       "      <td>I want to make America great again. We are a ...</td>\n",
       "    </tr>\n",
       "    <tr>\n",
       "      <th>441</th>\n",
       "      <td>TRUMP</td>\n",
       "      <td>The other day we were deporting 800 people. An...</td>\n",
       "    </tr>\n",
       "    <tr>\n",
       "      <th>442</th>\n",
       "      <td>HOLT</td>\n",
       "      <td>Will you accept the outcome of the election?</td>\n",
       "    </tr>\n",
       "    <tr>\n",
       "      <th>443</th>\n",
       "      <td>TRUMP</td>\n",
       "      <td>I want to make America great again. I’m going...</td>\n",
       "    </tr>\n",
       "  </tbody>\n",
       "</table>\n",
       "<p>444 rows × 2 columns</p>\n",
       "</div>"
      ],
      "text/plain": [
       "    Speaker                                               Line\n",
       "0      HOLT   Good evening from Hofstra University in Hemps...\n",
       "1      HOLT  The participants tonight are Donald Trump and ...\n",
       "2      HOLT  The 90-minute debate is divided into six segme...\n",
       "3      HOLT  The questions are mine and have not been share...\n",
       "4      HOLT  I will invite you to applaud, however, at this...\n",
       "..      ...                                                ...\n",
       "439    HOLT   Mr. Trump, very quickly, same question: Will ...\n",
       "440   TRUMP   I want to make America great again. We are a ...\n",
       "441   TRUMP  The other day we were deporting 800 people. An...\n",
       "442    HOLT      Will you accept the outcome of the election? \n",
       "443   TRUMP   I want to make America great again. I’m going...\n",
       "\n",
       "[444 rows x 2 columns]"
      ]
     },
     "execution_count": 73,
     "metadata": {},
     "output_type": "execute_result"
    }
   ],
   "source": [
    "debate1"
   ]
  },
  {
   "cell_type": "code",
   "execution_count": null,
   "metadata": {},
   "outputs": [],
   "source": []
  },
  {
   "cell_type": "code",
   "execution_count": null,
   "metadata": {},
   "outputs": [],
   "source": []
  }
 ],
 "metadata": {
  "kernelspec": {
   "display_name": "Python 3.7.4 64-bit",
   "language": "python",
   "name": "python37464bitff3a9920a6464dc8ae877e40204d8aad"
  },
  "language_info": {
   "codemirror_mode": {
    "name": "ipython",
    "version": 3
   },
   "file_extension": ".py",
   "mimetype": "text/x-python",
   "name": "python",
   "nbconvert_exporter": "python",
   "pygments_lexer": "ipython3",
   "version": "3.7.4"
  }
 },
 "nbformat": 4,
 "nbformat_minor": 2
}
